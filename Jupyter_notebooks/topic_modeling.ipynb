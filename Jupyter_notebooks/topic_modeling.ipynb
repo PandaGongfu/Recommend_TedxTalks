{
 "cells": [
  {
   "cell_type": "code",
   "execution_count": 1,
   "metadata": {
    "collapsed": true
   },
   "outputs": [],
   "source": [
    "import pandas as pd\n",
    "import numpy as np\n",
    "import re\n",
    "import pickle\n",
    "from collections import Counter\n",
    "\n",
    "from sklearn.feature_extraction.stop_words import ENGLISH_STOP_WORDS\n",
    "from sklearn.feature_extraction.text import CountVectorizer, TfidfVectorizer\n",
    "from sklearn.decomposition import NMF\n",
    "\n",
    "from nltk.corpus import stopwords\n",
    "import nltk\n",
    "import spacy\n",
    "\n",
    "from multiprocessing.dummy import Pool\n",
    "from multiprocessing import cpu_count\n",
    "\n",
    "import logging\n",
    "import glob"
   ]
  },
  {
   "cell_type": "code",
   "execution_count": 93,
   "metadata": {
    "collapsed": true
   },
   "outputs": [],
   "source": [
    "nlp = spacy.load('en')"
   ]
  },
  {
   "cell_type": "markdown",
   "metadata": {},
   "source": [
    "## Raw data cleaning"
   ]
  },
  {
   "cell_type": "code",
   "execution_count": 2,
   "metadata": {
    "collapsed": true
   },
   "outputs": [],
   "source": [
    "ted_docs = pickle.load(open('data/Ted/ted.pickle', 'rb'))"
   ]
  },
  {
   "cell_type": "code",
   "execution_count": 3,
   "metadata": {
    "collapsed": false
   },
   "outputs": [],
   "source": [
    "ted_transcripts = []\n",
    "[ted_transcripts.append(doc['transcript']) for doc in ted_docs];"
   ]
  },
  {
   "cell_type": "code",
   "execution_count": 18,
   "metadata": {
    "collapsed": false
   },
   "outputs": [],
   "source": [
    "clean_titles = []\n",
    "[clean_titles.append('\\\"'+doc['title']+'\\\"') for doc in ted_docs];\n",
    "title_df = pd.DataFrame({'title':clean_titles})\n",
    "title_df.to_csv('ted_title.csv', index=False)"
   ]
  },
  {
   "cell_type": "code",
   "execution_count": 22,
   "metadata": {
    "collapsed": false
   },
   "outputs": [],
   "source": [
    "pickle.dump(all_titles, open('all_titles.pkl', 'wb'))"
   ]
  },
  {
   "cell_type": "code",
   "execution_count": 146,
   "metadata": {
    "collapsed": false
   },
   "outputs": [],
   "source": [
    "ted_titles = []\n",
    "[ted_titles.append('TEDD_'+doc['title']) for doc in ted_docs];\n",
    "ted_views = []\n",
    "[ted_views.append('TEDD_'+doc['viewership']) for doc in ted_docs];\n",
    "ted_dates = []\n",
    "[ted_dates.append('TEDD_'+doc['upload_day'].split(',')[1].strip()) for doc in ted_docs];"
   ]
  },
  {
   "cell_type": "code",
   "execution_count": 136,
   "metadata": {
    "collapsed": false
   },
   "outputs": [],
   "source": [
    "tedx_files = [path for path in glob.glob('data/Tedx/*.pickle')]\n",
    "tedx_docs = []\n",
    "[tedx_docs.extend(pickle.load(open(fname, 'rb'))) for fname in tedx_files];"
   ]
  },
  {
   "cell_type": "code",
   "execution_count": 147,
   "metadata": {
    "collapsed": false
   },
   "outputs": [],
   "source": [
    "tedx_transcripts = []\n",
    "[tedx_transcripts.append(doc['transcript']) for doc in tedx_docs];\n",
    "tedx_titles = []\n",
    "[tedx_titles.append('TEDX_'+doc['title']) for doc in tedx_docs];\n",
    "\n",
    "tedx_views = []\n",
    "[tedx_views.append('TEDX_'+doc['viewership']) for doc in tedx_docs];\n",
    "tedx_dates = []\n",
    "[tedx_dates.append('TEDX_'+doc['upload_day'].split(',')[1].strip()) for doc in tedx_docs];"
   ]
  },
  {
   "cell_type": "code",
   "execution_count": null,
   "metadata": {
    "collapsed": false
   },
   "outputs": [],
   "source": [
    "upload_day 'Nov 4, 2016' 'Jul 11, 2013' date 'May 19, 2014'"
   ]
  },
  {
   "cell_type": "code",
   "execution_count": 148,
   "metadata": {
    "collapsed": true
   },
   "outputs": [],
   "source": [
    "idea_docs = pickle.load(open('data/Ted/idea_text.pickle', 'rb'))\n",
    "idea_texts = []\n",
    "[idea_texts.append(doc['text']) for doc in idea_docs];\n",
    "idea_titles = []\n",
    "[idea_titles.append('IDEA_'+doc['title']) for doc in idea_docs];\n",
    "\n",
    "idea_views = []\n",
    "[idea_views.append('IDEA_'+doc['viewership']) for doc in idea_docs];\n",
    "idea_dates = []\n",
    "[idea_dates.append('IDEA_'+doc['date'].split(',')[1].strip()) for doc in idea_docs];"
   ]
  },
  {
   "cell_type": "code",
   "execution_count": 8,
   "metadata": {
    "collapsed": false
   },
   "outputs": [],
   "source": [
    "all_texts = ted_transcripts + tedx_transcripts + idea_texts\n",
    "all_titles = ted_titles + tedx_titles + idea_titles"
   ]
  },
  {
   "cell_type": "markdown",
   "metadata": {},
   "source": [
    "## Use pool to parellel tokenizing process"
   ]
  },
  {
   "cell_type": "code",
   "execution_count": 110,
   "metadata": {
    "collapsed": false
   },
   "outputs": [],
   "source": [
    "stop_list = list(set(list(stopwords.words('english')) + list(ENGLISH_STOP_WORDS)))+[\"'re\"]\n",
    "\n",
    "def text_tokenizer(s):\n",
    "    s=s.lower()\n",
    "\n",
    "    reg_filters = ['\\d+', '\\(\\w+\\)', '\\<.+\\>', '\\-\\-', '\\.\\.\\.']\n",
    "    for reg_filter in reg_filters:\n",
    "        s = re.sub(reg_filter, ' ', s)\n",
    "    \n",
    "    ## lemmatize the tokens using spaCy\n",
    "    tokens = nlp(s)\n",
    "    tokens = [tok.lemma_.strip() for tok in tokens]\n",
    "    return [tok for tok in tokens if len(tok) > 2 and tok not in stop_list]"
   ]
  },
  {
   "cell_type": "code",
   "execution_count": 381,
   "metadata": {
    "collapsed": false
   },
   "outputs": [
    {
     "name": "stdout",
     "output_type": "stream",
     "text": [
      "706.0771141052246\n"
     ]
    }
   ],
   "source": [
    "pool_size = 16\n",
    "pool = Pool(pool_size)\n",
    "t1 = time()\n",
    "all_res = pool.map(text_tokenizer, all_texts)\n",
    "t2 = time()\n",
    "print(t2-t1)"
   ]
  },
  {
   "cell_type": "code",
   "execution_count": 510,
   "metadata": {
    "collapsed": true
   },
   "outputs": [],
   "source": [
    "pickle.dump(all_res, open('all_lemma.pickle', 'wb'))"
   ]
  },
  {
   "cell_type": "code",
   "execution_count": 99,
   "metadata": {
    "collapsed": true
   },
   "outputs": [],
   "source": [
    "def print_top_words(model, feature_names, n_top_words):\n",
    "    for topic_idx, topic in enumerate(model.components_):\n",
    "        print(\"Topic #%d:\" % topic_idx)\n",
    "        print(\" \".join([feature_names[i]\n",
    "                        for i in topic.argsort()[:-n_top_words - 1:-1]]))\n",
    "    print()"
   ]
  },
  {
   "cell_type": "code",
   "execution_count": null,
   "metadata": {
    "collapsed": false
   },
   "outputs": [],
   "source": []
  },
  {
   "cell_type": "code",
   "execution_count": 113,
   "metadata": {
    "collapsed": false,
    "scrolled": true
   },
   "outputs": [],
   "source": [
    "def nmf_topics(texts, n_topics=20, n_top_words=20):\n",
    "    # Use tf-idf features for NMF.\n",
    "    tfidf_vectorizer = TfidfVectorizer(max_df= 0.95, min_df=5, stop_words='english')\n",
    "    tfidf = tfidf_vectorizer.fit_transform(texts)\n",
    "\n",
    "    # Fit the NMF model\n",
    "    t1=time()\n",
    "    nmf = NMF(n_components=n_topics, random_state=2, alpha=.1, l1_ratio=.5).fit(tfidf)\n",
    "    t2=time()\n",
    "    print(t2-t1)\n",
    "    print(\"\\nTopics in NMF model:\")\n",
    "    tfidf_feature_names = tfidf_vectorizer.get_feature_names()\n",
    "    print_top_words(nmf, tfidf_feature_names, n_top_words) \n",
    "    return tfidf, nmf"
   ]
  },
  {
   "cell_type": "markdown",
   "metadata": {},
   "source": [
    "# Topic modeling"
   ]
  },
  {
   "cell_type": "markdown",
   "metadata": {},
   "source": [
    "## Generate 15 topics for presentation purpuses"
   ]
  },
  {
   "cell_type": "code",
   "execution_count": 195,
   "metadata": {
    "collapsed": true
   },
   "outputs": [],
   "source": [
    "topics= ['School', 'Education', 'Social Issues', 'Environment', 'Music',\n",
    "'Energy', 'Health', 'Gender', 'Urban Planning', 'Business',\n",
    "'Food', 'Technology', 'Family', 'Human Mind', 'Games']"
   ]
  },
  {
   "cell_type": "code",
   "execution_count": null,
   "metadata": {
    "collapsed": true
   },
   "outputs": [],
   "source": [
    "all_res=pickle.load( open('all_lemma.pickle', 'rb'))"
   ]
  },
  {
   "cell_type": "code",
   "execution_count": 157,
   "metadata": {
    "collapsed": false
   },
   "outputs": [
    {
     "name": "stdout",
     "output_type": "stream",
     "text": [
      "69.7084310054779\n",
      "\n",
      "Topics in NMF model:\n",
      "Topic #0:\n",
      "know say think thing people want really time make life come good right tell day look feel talk love way\n",
      "Topic #1:\n",
      "yeah yes okay home know hey uh say mom lol yahoo um use hmm good haha right song alright day\n",
      "Topic #2:\n",
      "school kid teacher girl education year high parent teach grade program young community learn college adult boy class classroom district\n",
      "Topic #3:\n",
      "student teacher education classroom learn school class learning teach university college math high skill teaching educational question grade test need\n",
      "Topic #4:\n",
      "people country world community social change government africa state society year need percent global issue problem young political organization health\n",
      "Topic #5:\n",
      "water ocean planet earth animal fish specie sea year nature plant tree river space universe climate human world look forest\n",
      "Topic #6:\n",
      "music song play sound musician instrument musical guitar sing listen classical artist piano composer art orchestra dance concert piece band\n",
      "Topic #7:\n",
      "energy solar power electricity fuel nuclear renewable climate carbon oil wind use technology percent fossil building cost coal car panel\n",
      "Topic #8:\n",
      "cancer patient disease cell health doctor drug medicine medical hospital care treatment blood body tumor die surgery gene treat breast\n",
      "Topic #9:\n",
      "woman man girl gender female sex violence sexual male boy mother percent young feminist daughter voice husband rape body equality\n",
      "Topic #10:\n",
      "city building community space design project neighborhood build place art urban street architecture architect new public people artist create park\n",
      "Topic #11:\n",
      "business company money entrepreneur work product dollar job market customer start innovation make create profit value idea sell employee percent\n",
      "Topic #12:\n",
      "food eat farm farmer cook plant agriculture grow produce diet restaurant vegetable garden healthy organic local soil meal taste fruit\n",
      "Topic #13:\n",
      "technology actually thing use computer datum design information think really make look idea way work device internet kind example machine\n",
      "Topic #14:\n",
      "child parent family mother baby life father old year home adult teach young care childhood daughter learn mom help love\n",
      "Topic #15:\n",
      "brain neuron memory cell human cortex body activity neuroscience disorder control behavior study animal mind stress disease emotion function neural\n",
      "Topic #16:\n",
      "game play video player sport gaming virtual gamers learn fun team win character real football coach online ball world warcraft\n",
      "\n"
     ]
    }
   ],
   "source": [
    "processed_texts = [' '.join(w_list) for w_list in all_res]\n",
    "tfidf, nmf = nmf_topics(processed_texts, n_topics=17)"
   ]
  },
  {
   "cell_type": "markdown",
   "metadata": {},
   "source": [
    "## Generate 30 topics for the final model "
   ]
  },
  {
   "cell_type": "code",
   "execution_count": 479,
   "metadata": {
    "collapsed": false,
    "scrolled": false
   },
   "outputs": [
    {
     "name": "stdout",
     "output_type": "stream",
     "text": [
      "124.48314595222473\n",
      "\n",
      "Topics in NMF model:\n",
      "Topic #0:\n",
      "say life time want make day come know feel year love think tell good thing people look start way friend\n",
      "Topic #1:\n",
      "yeah hey home song hmm yahoo mmm love play instrument uh lol yes mom really haha lon thank know nah\n",
      "Topic #2:\n",
      "school education teacher girl high college young community year program graduate grade learn public parent principal district class boy educate\n",
      "Topic #3:\n",
      "student teacher classroom education learn class learning teach university math college question skill teaching test science lecture grade need educational\n",
      "Topic #4:\n",
      "people country community world social government africa change state society need problem percent global issue political year organization united young\n",
      "Topic #5:\n",
      "art artist museum painting creative creativity work create paint dance image gallery project culture piece sculpture idea performance community make\n",
      "Topic #6:\n",
      "music song play sound musician instrument musical guitar sing listen classical piano composer orchestra concert band piece record hear jazz\n",
      "Topic #7:\n",
      "ocean animal specie fish planet nature sea tree plant human forest climate earth coral year carbon science look scientist ecosystem\n",
      "Topic #8:\n",
      "patient health doctor disease care hospital medical medicine healthcare treatment physician drug surgery clinic medication blood nurse illness heart healthy\n",
      "Topic #9:\n",
      "woman man girl gender female sex violence sexual male boy mother percent feminist young daughter rape husband equality voice baby\n",
      "Topic #10:\n",
      "city building community neighborhood space urban street place build new public york park project live area map downtown architecture local\n",
      "Topic #11:\n",
      "business company money entrepreneur dollar product work job market customer innovation start make employee profit sell create value bank industry\n",
      "Topic #12:\n",
      "food eat farmer farm cook agriculture grow plant restaurant diet produce vegetable garden healthy organic local meal taste kitchen chef\n",
      "Topic #13:\n",
      "technology computer information use internet device digital phone machine video new medium world mobile online network actually software time future\n",
      "Topic #14:\n",
      "child parent family baby mother adult teacher old childhood teach abuse father daughter home autism young care need help play\n",
      "Topic #15:\n",
      "brain neuron cell memory human cortex body activity neuroscience control disorder behavior study information mind disease stress function neural area\n",
      "Topic #16:\n",
      "datum information map privacy collect science look use decision algorithm pattern big date scientist sensor visualization analysis database analyze government\n",
      "Topic #17:\n",
      "think really thing people actually lot talk idea make right want work look kind know gonna say way good kinda\n",
      "Topic #18:\n",
      "game play video player sport gaming virtual gamers learn fun team character win real football coach online ball warcraft world\n",
      "Topic #19:\n",
      "know really guy gonna want arm right mean kinda come think wanna happen lot thing basically movie talk love say\n",
      "Topic #20:\n",
      "water river clean use drinking lake toilet drink sanitation bottle supply gallon swim rain aquifer resource problem waste village area\n",
      "Topic #21:\n",
      "energy solar power electricity fuel nuclear renewable climate carbon oil wind use technology percent fossil cost coal panel building plant\n",
      "Topic #22:\n",
      "story tell book film storytelling medium write storyteller read share narrative character news journalist movie audience journalism writer people hear\n",
      "Topic #23:\n",
      "design designer building product project material architecture architect idea make build space process work use create problem object innovation solution\n",
      "Topic #24:\n",
      "cancer cell drug disease tumor breast protein stem gene dna treatment molecule body genome virus blood chemotherapy genetic patient therapy\n",
      "Topic #25:\n",
      "universe space galaxy planet star earth telescope particle light mar science dark moon physic sun orbit gravity billion nasa solar\n",
      "Topic #26:\n",
      "kid teacher teach school adult parent grade say classroom learn math need year program thing gonna old class skill play\n",
      "Topic #27:\n",
      "robot robotics machine build robotic human intelligence drone motor control sensor autonomous task humanoid object artificial fly motion interact body\n",
      "Topic #28:\n",
      "language english word speak learn culture chinese use french deaf speaker dictionary spanish translate arabic communicate understand bilingual say sound\n",
      "Topic #29:\n",
      "okay yes say home uh good hey use mom day right um lol house hit alright yeah haha wall mall\n",
      "\n"
     ]
    }
   ],
   "source": [
    "# all texts\n",
    "processed_texts = [' '.join(w_list) for w_list in all_res]\n",
    "tfidf, nmf = nmf_topics(processed_texts, n_topics=30)"
   ]
  },
  {
   "cell_type": "code",
   "execution_count": null,
   "metadata": {
    "collapsed": false
   },
   "outputs": [],
   "source": [
    "prob_nmf = nmf.transform(tfidf)"
   ]
  },
  {
   "cell_type": "code",
   "execution_count": 542,
   "metadata": {
    "collapsed": true
   },
   "outputs": [],
   "source": [
    "pickle.dump(prob_nmf, open('prob_nmf.pickle', 'wb'))\n",
    "pickle.dump(tfidf, open('tfidf.pickle', 'wb'))\n",
    "pickle.dump(nmf, open('nmf.pickle', 'wb'))"
   ]
  },
  {
   "cell_type": "markdown",
   "metadata": {
    "collapsed": true
   },
   "source": [
    "## Exploratory Analysis of topics"
   ]
  },
  {
   "cell_type": "code",
   "execution_count": 122,
   "metadata": {
    "collapsed": false
   },
   "outputs": [],
   "source": [
    "tfidf = pickle.load(open('tfidf.pickle', 'rb'))\n",
    "nmf = pickle.load(open('nmf.pickle', 'rb'))"
   ]
  },
  {
   "cell_type": "code",
   "execution_count": 160,
   "metadata": {
    "collapsed": false,
    "scrolled": false
   },
   "outputs": [
    {
     "data": {
      "text/plain": [
       "Counter({1: 960,\n",
       "         2: 1014,\n",
       "         3: 3838,\n",
       "         4: 1647,\n",
       "         5: 997,\n",
       "         6: 595,\n",
       "         7: 1073,\n",
       "         8: 998,\n",
       "         9: 1081,\n",
       "         10: 1466,\n",
       "         11: 629,\n",
       "         12: 3147,\n",
       "         13: 770,\n",
       "         14: 699,\n",
       "         15: 456})"
      ]
     },
     "execution_count": 160,
     "metadata": {},
     "output_type": "execute_result"
    }
   ],
   "source": [
    "topics_list_all = [np.argmax(row[2:])+1 for row in prob_nmf]\n",
    "Counter(topics_list_all)"
   ]
  },
  {
   "cell_type": "code",
   "execution_count": 149,
   "metadata": {
    "collapsed": true
   },
   "outputs": [],
   "source": [
    "all_dates = ted_dates + tedx_dates + idea_dates"
   ]
  },
  {
   "cell_type": "code",
   "execution_count": 151,
   "metadata": {
    "collapsed": false
   },
   "outputs": [],
   "source": [
    "all_dates = [d[5:] for d in all_dates]"
   ]
  },
  {
   "cell_type": "code",
   "execution_count": 186,
   "metadata": {
    "collapsed": false
   },
   "outputs": [],
   "source": [
    "topic_df = pd.DataFrame({'date':all_dates, 'topic':topics_list_all})\n",
    "topic_df['count']=1\n",
    "topic_df = topic_df[topic_df['date'].isin([str(y) for y in range(2010, 2016)])]\n",
    "count_by_year_topic = topic_df.groupby(['date', 'topic']).count().reset_index()\n",
    "count_by_year = topic_df[['date', 'count']].groupby('date').count().reset_index()\n",
    "count_by_year.columns = ['date', 'year_count']\n",
    "count_by_year_topic = pd.merge(count_by_year_topic, count_by_year, on='date', how='left')\n",
    "count_by_year_topic['pct'] = count_by_year_topic['count']/count_by_year_topic['year_count']*100\n",
    "\n",
    "count_by_year_topic.drop(['count', 'year_count'], axis=1, inplace=True)\n",
    "count_by_year_topic = count_by_year_topic.rename(columns={'date':'year'})"
   ]
  },
  {
   "cell_type": "code",
   "execution_count": 202,
   "metadata": {
    "collapsed": false
   },
   "outputs": [
    {
     "data": {
      "text/html": [
       "<div>\n",
       "<table border=\"1\" class=\"dataframe\">\n",
       "  <thead>\n",
       "    <tr style=\"text-align: right;\">\n",
       "      <th></th>\n",
       "      <th>School</th>\n",
       "      <th>Education</th>\n",
       "      <th>Social Issues</th>\n",
       "      <th>Environment</th>\n",
       "      <th>Music</th>\n",
       "      <th>Energy</th>\n",
       "      <th>Health</th>\n",
       "      <th>Gender</th>\n",
       "      <th>Urban Planning</th>\n",
       "      <th>Business</th>\n",
       "      <th>Food</th>\n",
       "      <th>Technology</th>\n",
       "      <th>Family</th>\n",
       "      <th>Human Mind</th>\n",
       "      <th>Games</th>\n",
       "    </tr>\n",
       "    <tr>\n",
       "      <th>year</th>\n",
       "      <th></th>\n",
       "      <th></th>\n",
       "      <th></th>\n",
       "      <th></th>\n",
       "      <th></th>\n",
       "      <th></th>\n",
       "      <th></th>\n",
       "      <th></th>\n",
       "      <th></th>\n",
       "      <th></th>\n",
       "      <th></th>\n",
       "      <th></th>\n",
       "      <th></th>\n",
       "      <th></th>\n",
       "      <th></th>\n",
       "    </tr>\n",
       "  </thead>\n",
       "  <tbody>\n",
       "    <tr>\n",
       "      <th>2010</th>\n",
       "      <td>4.5</td>\n",
       "      <td>3.6</td>\n",
       "      <td>19.0</td>\n",
       "      <td>9.4</td>\n",
       "      <td>4.8</td>\n",
       "      <td>3.4</td>\n",
       "      <td>5.4</td>\n",
       "      <td>3.1</td>\n",
       "      <td>5.1</td>\n",
       "      <td>8.9</td>\n",
       "      <td>2.9</td>\n",
       "      <td>20.4</td>\n",
       "      <td>3.8</td>\n",
       "      <td>2.9</td>\n",
       "      <td>2.8</td>\n",
       "    </tr>\n",
       "    <tr>\n",
       "      <th>2011</th>\n",
       "      <td>5.9</td>\n",
       "      <td>5.0</td>\n",
       "      <td>18.7</td>\n",
       "      <td>7.4</td>\n",
       "      <td>5.6</td>\n",
       "      <td>3.8</td>\n",
       "      <td>5.0</td>\n",
       "      <td>4.1</td>\n",
       "      <td>4.3</td>\n",
       "      <td>8.4</td>\n",
       "      <td>4.1</td>\n",
       "      <td>19.0</td>\n",
       "      <td>3.5</td>\n",
       "      <td>2.9</td>\n",
       "      <td>2.5</td>\n",
       "    </tr>\n",
       "    <tr>\n",
       "      <th>2012</th>\n",
       "      <td>4.4</td>\n",
       "      <td>5.2</td>\n",
       "      <td>19.3</td>\n",
       "      <td>7.4</td>\n",
       "      <td>5.5</td>\n",
       "      <td>4.1</td>\n",
       "      <td>6.3</td>\n",
       "      <td>3.7</td>\n",
       "      <td>6.2</td>\n",
       "      <td>9.1</td>\n",
       "      <td>3.4</td>\n",
       "      <td>15.8</td>\n",
       "      <td>3.8</td>\n",
       "      <td>3.7</td>\n",
       "      <td>2.2</td>\n",
       "    </tr>\n",
       "    <tr>\n",
       "      <th>2013</th>\n",
       "      <td>4.8</td>\n",
       "      <td>6.2</td>\n",
       "      <td>18.2</td>\n",
       "      <td>8.1</td>\n",
       "      <td>5.8</td>\n",
       "      <td>3.0</td>\n",
       "      <td>5.6</td>\n",
       "      <td>5.0</td>\n",
       "      <td>6.7</td>\n",
       "      <td>7.3</td>\n",
       "      <td>3.5</td>\n",
       "      <td>16.1</td>\n",
       "      <td>3.6</td>\n",
       "      <td>3.8</td>\n",
       "      <td>2.3</td>\n",
       "    </tr>\n",
       "    <tr>\n",
       "      <th>2014</th>\n",
       "      <td>5.6</td>\n",
       "      <td>5.6</td>\n",
       "      <td>21.3</td>\n",
       "      <td>8.5</td>\n",
       "      <td>5.3</td>\n",
       "      <td>2.3</td>\n",
       "      <td>5.4</td>\n",
       "      <td>5.9</td>\n",
       "      <td>5.6</td>\n",
       "      <td>6.7</td>\n",
       "      <td>3.4</td>\n",
       "      <td>13.8</td>\n",
       "      <td>4.8</td>\n",
       "      <td>3.3</td>\n",
       "      <td>2.4</td>\n",
       "    </tr>\n",
       "    <tr>\n",
       "      <th>2015</th>\n",
       "      <td>4.9</td>\n",
       "      <td>5.7</td>\n",
       "      <td>20.9</td>\n",
       "      <td>8.4</td>\n",
       "      <td>4.4</td>\n",
       "      <td>2.5</td>\n",
       "      <td>5.6</td>\n",
       "      <td>7.8</td>\n",
       "      <td>4.8</td>\n",
       "      <td>7.7</td>\n",
       "      <td>2.6</td>\n",
       "      <td>13.9</td>\n",
       "      <td>4.3</td>\n",
       "      <td>4.1</td>\n",
       "      <td>2.4</td>\n",
       "    </tr>\n",
       "  </tbody>\n",
       "</table>\n",
       "</div>"
      ],
      "text/plain": [
       "      School  Education  Social Issues  Environment  Music  Energy  Health  \\\n",
       "year                                                                         \n",
       "2010     4.5        3.6           19.0          9.4    4.8     3.4     5.4   \n",
       "2011     5.9        5.0           18.7          7.4    5.6     3.8     5.0   \n",
       "2012     4.4        5.2           19.3          7.4    5.5     4.1     6.3   \n",
       "2013     4.8        6.2           18.2          8.1    5.8     3.0     5.6   \n",
       "2014     5.6        5.6           21.3          8.5    5.3     2.3     5.4   \n",
       "2015     4.9        5.7           20.9          8.4    4.4     2.5     5.6   \n",
       "\n",
       "      Gender  Urban Planning  Business  Food  Technology  Family  Human Mind  \\\n",
       "year                                                                           \n",
       "2010     3.1             5.1       8.9   2.9        20.4     3.8         2.9   \n",
       "2011     4.1             4.3       8.4   4.1        19.0     3.5         2.9   \n",
       "2012     3.7             6.2       9.1   3.4        15.8     3.8         3.7   \n",
       "2013     5.0             6.7       7.3   3.5        16.1     3.6         3.8   \n",
       "2014     5.9             5.6       6.7   3.4        13.8     4.8         3.3   \n",
       "2015     7.8             4.8       7.7   2.6        13.9     4.3         4.1   \n",
       "\n",
       "      Games  \n",
       "year         \n",
       "2010    2.8  \n",
       "2011    2.5  \n",
       "2012    2.2  \n",
       "2013    2.3  \n",
       "2014    2.4  \n",
       "2015    2.4  "
      ]
     },
     "execution_count": 202,
     "metadata": {},
     "output_type": "execute_result"
    }
   ],
   "source": [
    "topic_by_year = count_by_year_topic.pivot_table(index='year',columns='topic',values='pct').round(1)\n",
    "topic_by_year.columns=topics\n",
    "topic_by_year"
   ]
  },
  {
   "cell_type": "code",
   "execution_count": 204,
   "metadata": {
    "collapsed": false
   },
   "outputs": [
    {
     "data": {
      "text/plain": [
       "<matplotlib.axes._subplots.AxesSubplot at 0x12e86b7b8>"
      ]
     },
     "execution_count": 204,
     "metadata": {},
     "output_type": "execute_result"
    },
    {
     "data": {
      "image/png": "[encoded data removed]",
      "text/plain": [
       "<matplotlib.figure.Figure at 0x1329c5358>"
      ]
     },
     "metadata": {},
     "output_type": "display_data"
    }
   ],
   "source": [
    "topic_by_year[['Gender','Technology', 'Education']].plot()"
   ]
  },
  {
   "cell_type": "code",
   "execution_count": null,
   "metadata": {
    "collapsed": true
   },
   "outputs": [],
   "source": []
  },
  {
   "cell_type": "code",
   "execution_count": 217,
   "metadata": {
    "collapsed": true
   },
   "outputs": [],
   "source": [
    "num_views = []\n",
    "for v in all_views:\n",
    "    if len(v)>5:\n",
    "        num_views.append(int(v[5:].replace(',','')))\n",
    "    else:\n",
    "        num_views.append(0)    "
   ]
  },
  {
   "cell_type": "code",
   "execution_count": 218,
   "metadata": {
    "collapsed": false
   },
   "outputs": [],
   "source": [
    "all_views = ted_views + tedx_views + idea_views\n",
    "views_df = pd.DataFrame({'view':num_views, 'topic':topics_list_all})"
   ]
  },
  {
   "cell_type": "code",
   "execution_count": 222,
   "metadata": {
    "collapsed": false
   },
   "outputs": [
    {
     "data": {
      "text/plain": [
       "<matplotlib.axes._subplots.AxesSubplot at 0x1d98efeb8>"
      ]
     },
     "execution_count": 222,
     "metadata": {},
     "output_type": "execute_result"
    },
    {
     "data": {
      "image/png": "[encoded data removed]",
      "text/plain": [
       "<matplotlib.figure.Figure at 0x1316f22e8>"
      ]
     },
     "metadata": {},
     "output_type": "display_data"
    }
   ],
   "source": [
    "df = views_df.groupby('topic').median()\n",
    "df.plot()"
   ]
  },
  {
   "cell_type": "code",
   "execution_count": 226,
   "metadata": {
    "collapsed": false,
    "scrolled": false
   },
   "outputs": [
    {
     "name": "stdout",
     "output_type": "stream",
     "text": [
      "TEDX_TEDxUofM - Jameson Toole - Big Data for Tomorrow\n",
      "TEDX_The Power of Community: Pete Pelberg at TEDxLMSD\n",
      "TEDX_Shadows Matter: Don Salubayba at TEDxDiliman\n"
     ]
    }
   ],
   "source": [
    "from annoy import AnnoyIndex\n",
    "import random\n",
    "f = 17\n",
    "t = AnnoyIndex(f)  # Length of item vector that will be indexed\n",
    "for i, row in enumerate(prob_nmf):\n",
    "    v = row\n",
    "    t.add_item(i, v)\n",
    "\n",
    "t.build(10) # 10 trees\n",
    "\n",
    "idx = t.get_nns_by_item(346, 3)\n",
    "for i in idx:\n",
    "    if all_titles[i][:5] == 'TEDX_':\n",
    "        print(all_titles[i])"
   ]
  },
  {
   "cell_type": "markdown",
   "metadata": {},
   "source": [
    "## T-SNE Plot"
   ]
  },
  {
   "cell_type": "code",
   "execution_count": 42,
   "metadata": {
    "collapsed": false
   },
   "outputs": [],
   "source": [
    "from time import time\n",
    "\n",
    "import numpy as np\n",
    "import matplotlib.pyplot as plt\n",
    "%matplotlib inline \n",
    "from matplotlib import offsetbox\n",
    "from sklearn import (manifold, datasets, decomposition, ensemble,\n",
    "                     discriminant_analysis, random_projection)\n",
    "\n",
    "digits = datasets.load_digits(n_class=6)\n",
    "X = digits.data\n",
    "y = digits.target\n",
    "n_samples, n_features = X.shape\n",
    "n_neighbors = 30"
   ]
  },
  {
   "cell_type": "code",
   "execution_count": 131,
   "metadata": {
    "collapsed": true
   },
   "outputs": [],
   "source": [
    "def plot_embedding(X, y, title=None):\n",
    "    x_min, x_max = np.min(X, 0), np.max(X, 0)\n",
    "    X = (X - x_min) / (x_max - x_min)\n",
    "\n",
    "    plt.figure()\n",
    "    ax = plt.subplot(111)\n",
    "    for i in range(X.shape[0]):\n",
    "        plt.text(X[i, 0], X[i, 1], '+', color=plt.cm.Set1(y[i] / 10.))\n",
    "                 \n",
    "    plt.xticks([]), plt.yticks([])\n",
    "    if title is not None:\n",
    "        plt.title(title)"
   ]
  },
  {
   "cell_type": "code",
   "execution_count": null,
   "metadata": {
    "collapsed": false
   },
   "outputs": [],
   "source": []
  },
  {
   "cell_type": "code",
   "execution_count": 60,
   "metadata": {
    "collapsed": false
   },
   "outputs": [],
   "source": [
    "prob_nmf.shape\n",
    "X_tsne.shape\n",
    "pickle.dump(X_tsne, open('tsne.pickle', 'wb'))\n",
    "\n"
   ]
  },
  {
   "cell_type": "code",
   "execution_count": 83,
   "metadata": {
    "collapsed": false
   },
   "outputs": [
    {
     "name": "stdout",
     "output_type": "stream",
     "text": [
      "Computing t-SNE embedding\n"
     ]
    }
   ],
   "source": [
    "ted_prob_nmf = prob_nmf[:2221,:]\n",
    "print(\"Computing t-SNE embedding\")\n",
    "tsne = manifold.TSNE(n_components=2, random_state=0)\n",
    "ted_tsne = tsne.fit_transform(ted_prob_nmf)"
   ]
  },
  {
   "cell_type": "code",
   "execution_count": 132,
   "metadata": {
    "collapsed": false
   },
   "outputs": [
    {
     "data": {
      "image/png": "[encoded data removed]",
      "text/plain": [
       "<matplotlib.figure.Figure at 0x1327c3f28>"
      ]
     },
     "metadata": {},
     "output_type": "display_data"
    }
   ],
   "source": [
    "\n",
    "remove_idx = [1212,1013, 367, 574, 18, 57, 52, 1206, 409, 987, 477, 1461, 1965, 436, 818, 2167, 626, 1968, 297, 1720, 1529, 622, 760, 141 ]\n",
    "\n",
    "\n",
    "X_final = np.delete(ted_tsne, remove_idx, axis=0)\n",
    "y_final = np.delete(np.array(topics_list), remove_idx, axis=0)\n",
    "plot_embedding(X_final, y_final, 'T-SNE embedding of talks')\n",
    "\n",
    "plt.show()"
   ]
  }
 ],
 "metadata": {
  "anaconda-cloud": {},
  "kernelspec": {
   "display_name": "Python [Root]",
   "language": "python",
   "name": "Python [Root]"
  },
  "language_info": {
   "codemirror_mode": {
    "name": "ipython",
    "version": 3
   },
   "file_extension": ".py",
   "mimetype": "text/x-python",
   "name": "python",
   "nbconvert_exporter": "python",
   "pygments_lexer": "ipython3",
   "version": "3.5.2"
  }
 },
 "nbformat": 4,
 "nbformat_minor": 0
}
