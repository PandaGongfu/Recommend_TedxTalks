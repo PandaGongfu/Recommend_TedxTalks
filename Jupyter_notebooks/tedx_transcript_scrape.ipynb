{
 "cells": [
  {
   "cell_type": "code",
   "execution_count": 2,
   "metadata": {
    "collapsed": true
   },
   "outputs": [],
   "source": [
    "import time\n",
    "from selenium import webdriver\n",
    "from selenium.webdriver.common.action_chains import ActionChains\n",
    "from selenium.webdriver.common.keys import Keys\n",
    "import os\n",
    "from collections import defaultdict\n",
    "\n",
    "from pymongo import MongoClient\n",
    "import pickle"
   ]
  },
  {
   "cell_type": "code",
   "execution_count": 3,
   "metadata": {
    "collapsed": true
   },
   "outputs": [],
   "source": [
    "def get_document(args):\n",
    "    driver, title = args\n",
    "    document = defaultdict(str)\n",
    "    try:\n",
    "        time.sleep(2)\n",
    "\n",
    "        input_xpath = \"//input[@id='masthead-search-term']\"\n",
    "        input = driver.find_element_by_xpath(input_xpath)\n",
    "        input.clear()\n",
    "        time.sleep(1)\n",
    "        input.send_keys(title)\n",
    "        input.send_keys(Keys.ENTER)\n",
    "        time.sleep(2)\n",
    "    except:\n",
    "        print('!error not enough time %s' % title)\n",
    "        return {}, title\n",
    "\n",
    "    try:\n",
    "        time.sleep(2)\n",
    "        video_xpath = \"//div[@class='yt-lockup-content' and div[@class='yt-lockup-byline']//a[@href='/user/TEDxTalks']]\"\n",
    "        video = driver.find_elements_by_xpath(video_xpath)\n",
    "        ActionChains(driver).click(video[0]).perform()\n",
    "\n",
    "        time.sleep(2)\n",
    "    except:\n",
    "        print('!!error connecting to video %s' % title)\n",
    "        return {}, title\n",
    "\n",
    "    try:\n",
    "        # Viewership\n",
    "        view_xpath = \"//div[@class='watch-view-count']\"\n",
    "        views = driver.find_elements_by_xpath(view_xpath)\n",
    "        document['viewership'] = views[0].text.split(' views')[0]\n",
    "\n",
    "        # title\n",
    "        title_xpath = \"//span[@class='watch-title']\"\n",
    "        document['title'] = driver.find_elements_by_xpath(title_xpath)[0].text\n",
    "\n",
    "        # Upload Date\n",
    "        upload_day_xpath = \"//strong[@class='watch-time-text']\"\n",
    "        document['upload_day'] = driver.find_elements_by_xpath(upload_day_xpath)[0].text.split('on ')[1]\n",
    "\n",
    "        # UpVote, DownVote\n",
    "        upvote_xpath = \"//button[@title='I like this']//span[@class='yt-uix-button-content']\"\n",
    "        document['upvote'] = driver.find_elements_by_xpath(upvote_xpath)[0].text\n",
    "\n",
    "        downvote_xpath = \"//button[@title='I dislike this']//span[@class='yt-uix-button-content']\"\n",
    "        document['downvote'] = driver.find_elements_by_xpath(downvote_xpath)[0].text\n",
    "\n",
    "        time.sleep(1)\n",
    "        # Locate Transcript\n",
    "        button_xpath = \"//button[@id='action-panel-overflow-button']\"\n",
    "        buttons = driver.find_elements_by_xpath(button_xpath)\n",
    "        ActionChains(driver).click(buttons[0]).perform()\n",
    "        time.sleep(1)\n",
    "\n",
    "        transcript_xpath = \"//button[@data-trigger-for='action-panel-transcript']\"\n",
    "        transcripts = driver.find_elements_by_xpath(transcript_xpath)\n",
    "        ActionChains(driver).click(transcripts[0]).perform()\n",
    "        time.sleep(1)\n",
    "\n",
    "        # Get Transcript\n",
    "        lang_button_xpath = \"//button[@class='yt-uix-button yt-uix-button-default hidden']//span[@class='yt-uix-button-content transcript-lang']\"\n",
    "        lang_button = driver.find_elements_by_xpath(lang_button_xpath)\n",
    "\n",
    "        if lang_button[0].text not in ['English', 'English (Automatic Captions)']:\n",
    "            ActionChains(driver).click(lang_button[0]).perform()\n",
    "            time.sleep(1)\n",
    "\n",
    "            lang_xpath = \"//span[@class='yt-uix-button-content transcript-lang' and contains(text(),'English')]\"\n",
    "            lang = driver.find_elements_by_xpath(lang_xpath)\n",
    "\n",
    "            if len(lang):\n",
    "                ActionChains(driver).click(lang[0]).perform()\n",
    "                time.sleep(1)\n",
    "            else:\n",
    "                print('language is not available in English')\n",
    "                return {}, title\n",
    "\n",
    "        text_xpath = \"//div[@class='caption-line-text']\"\n",
    "        texts = driver.find_elements_by_xpath(text_xpath)\n",
    "\n",
    "        lines = []\n",
    "        [lines.append(text.text) for text in texts];\n",
    "        doc = ' '.join(lines)\n",
    "        document['transcript'] = doc\n",
    "\n",
    "        print(document['title'])\n",
    "\n",
    "    except:\n",
    "        print('!!!Error processing %s ' % title)\n",
    "        return {}, title\n",
    "    return document, ''"
   ]
  },
  {
   "cell_type": "code",
   "execution_count": 4,
   "metadata": {
    "collapsed": true
   },
   "outputs": [],
   "source": [
    "chromedriver = \"/Users/PandaGongfu/Downloads/chromedriver_2\"\n",
    "os.environ[\"webdriver.chrome.driver\"] = chromedriver\n",
    "driver = webdriver.Chrome(chromedriver)\n",
    "youtube_url = \"https://www.youtube.com\"\n",
    "driver = webdriver.Chrome(chromedriver)\n",
    "driver.get(youtube_url)"
   ]
  },
  {
   "cell_type": "code",
   "execution_count": 9,
   "metadata": {
    "collapsed": false
   },
   "outputs": [],
   "source": [
    "pickle.dump(test_docs_list, open('tedx_scripts11.pickle', 'wb'))"
   ]
  },
  {
   "cell_type": "code",
   "execution_count": null,
   "metadata": {
    "collapsed": false
   },
   "outputs": [
    {
     "name": "stdout",
     "output_type": "stream",
     "text": [
      "0\n"
     ]
    }
   ],
   "source": [
    "title_list = pickle.load(open('tedx_titles.pickle', 'rb'))\n",
    "test_docs_list = []\n",
    "error_load = []\n",
    "\n",
    "count=0\n",
    "test_links = title_list[15000:17500]\n",
    "\n",
    "for link in test_links:\n",
    "    print(count)\n",
    "    count += 1\n",
    "    document, error_link = get_document((driver, link))\n",
    "    if len(error_link):\n",
    "        error_load.append(error_link)\n",
    "    else:\n",
    "        test_docs_list.append(document)"
   ]
  }
 ],
 "metadata": {
  "kernelspec": {
   "display_name": "Python [Root]",
   "language": "python",
   "name": "Python [Root]"
  },
  "language_info": {
   "codemirror_mode": {
    "name": "ipython",
    "version": 3
   },
   "file_extension": ".py",
   "mimetype": "text/x-python",
   "name": "python",
   "nbconvert_exporter": "python",
   "pygments_lexer": "ipython3",
   "version": "3.5.2"
  }
 },
 "nbformat": 4,
 "nbformat_minor": 0
}
